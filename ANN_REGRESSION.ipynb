{
 "cells": [
  {
   "cell_type": "code",
   "execution_count": 1,
   "id": "71766f19",
   "metadata": {},
   "outputs": [
    {
     "name": "stdout",
     "output_type": "stream",
     "text": [
      "Requirement already satisfied: tensorflow in c:\\anacondarey\\lib\\site-packages (2.12.0)\n",
      "Requirement already satisfied: tensorflow-intel==2.12.0 in c:\\anacondarey\\lib\\site-packages (from tensorflow) (2.12.0)\n",
      "Requirement already satisfied: tensorflow-estimator<2.13,>=2.12.0 in c:\\anacondarey\\lib\\site-packages (from tensorflow-intel==2.12.0->tensorflow) (2.12.0)\n",
      "Requirement already satisfied: grpcio<2.0,>=1.24.3 in c:\\anacondarey\\lib\\site-packages (from tensorflow-intel==2.12.0->tensorflow) (1.56.0)\n",
      "Requirement already satisfied: protobuf!=4.21.0,!=4.21.1,!=4.21.2,!=4.21.3,!=4.21.4,!=4.21.5,<5.0.0dev,>=3.20.3 in c:\\anacondarey\\lib\\site-packages (from tensorflow-intel==2.12.0->tensorflow) (4.23.3)\n",
      "Requirement already satisfied: absl-py>=1.0.0 in c:\\anacondarey\\lib\\site-packages (from tensorflow-intel==2.12.0->tensorflow) (1.4.0)\n",
      "Requirement already satisfied: tensorboard<2.13,>=2.12 in c:\\anacondarey\\lib\\site-packages (from tensorflow-intel==2.12.0->tensorflow) (2.12.3)\n",
      "Requirement already satisfied: astunparse>=1.6.0 in c:\\anacondarey\\lib\\site-packages (from tensorflow-intel==2.12.0->tensorflow) (1.6.3)\n",
      "Requirement already satisfied: typing-extensions>=3.6.6 in c:\\anacondarey\\lib\\site-packages (from tensorflow-intel==2.12.0->tensorflow) (4.3.0)\n",
      "Requirement already satisfied: h5py>=2.9.0 in c:\\anacondarey\\lib\\site-packages (from tensorflow-intel==2.12.0->tensorflow) (3.7.0)\n",
      "Requirement already satisfied: tensorflow-io-gcs-filesystem>=0.23.1 in c:\\anacondarey\\lib\\site-packages (from tensorflow-intel==2.12.0->tensorflow) (0.31.0)\n",
      "Requirement already satisfied: jax>=0.3.15 in c:\\anacondarey\\lib\\site-packages (from tensorflow-intel==2.12.0->tensorflow) (0.4.13)\n",
      "Requirement already satisfied: packaging in c:\\anacondarey\\lib\\site-packages (from tensorflow-intel==2.12.0->tensorflow) (21.3)\n",
      "Requirement already satisfied: opt-einsum>=2.3.2 in c:\\anacondarey\\lib\\site-packages (from tensorflow-intel==2.12.0->tensorflow) (3.3.0)\n",
      "Requirement already satisfied: flatbuffers>=2.0 in c:\\anacondarey\\lib\\site-packages (from tensorflow-intel==2.12.0->tensorflow) (23.5.26)\n",
      "Requirement already satisfied: keras<2.13,>=2.12.0 in c:\\anacondarey\\lib\\site-packages (from tensorflow-intel==2.12.0->tensorflow) (2.12.0)\n",
      "Requirement already satisfied: libclang>=13.0.0 in c:\\anacondarey\\lib\\site-packages (from tensorflow-intel==2.12.0->tensorflow) (16.0.0)\n",
      "Requirement already satisfied: setuptools in c:\\anacondarey\\lib\\site-packages (from tensorflow-intel==2.12.0->tensorflow) (63.4.1)\n",
      "Requirement already satisfied: google-pasta>=0.1.1 in c:\\anacondarey\\lib\\site-packages (from tensorflow-intel==2.12.0->tensorflow) (0.2.0)\n",
      "Requirement already satisfied: numpy<1.24,>=1.22 in c:\\anacondarey\\lib\\site-packages (from tensorflow-intel==2.12.0->tensorflow) (1.23.5)\n",
      "Requirement already satisfied: wrapt<1.15,>=1.11.0 in c:\\anacondarey\\lib\\site-packages (from tensorflow-intel==2.12.0->tensorflow) (1.14.1)\n",
      "Requirement already satisfied: termcolor>=1.1.0 in c:\\anacondarey\\lib\\site-packages (from tensorflow-intel==2.12.0->tensorflow) (2.3.0)\n",
      "Requirement already satisfied: six>=1.12.0 in c:\\anacondarey\\lib\\site-packages (from tensorflow-intel==2.12.0->tensorflow) (1.16.0)\n",
      "Requirement already satisfied: gast<=0.4.0,>=0.2.1 in c:\\anacondarey\\lib\\site-packages (from tensorflow-intel==2.12.0->tensorflow) (0.4.0)\n",
      "Requirement already satisfied: wheel<1.0,>=0.23.0 in c:\\anacondarey\\lib\\site-packages (from astunparse>=1.6.0->tensorflow-intel==2.12.0->tensorflow) (0.37.1)\n",
      "Requirement already satisfied: ml-dtypes>=0.1.0 in c:\\anacondarey\\lib\\site-packages (from jax>=0.3.15->tensorflow-intel==2.12.0->tensorflow) (0.2.0)\n",
      "Requirement already satisfied: scipy>=1.7 in c:\\anacondarey\\lib\\site-packages (from jax>=0.3.15->tensorflow-intel==2.12.0->tensorflow) (1.9.1)\n",
      "Requirement already satisfied: importlib-metadata>=4.6 in c:\\anacondarey\\lib\\site-packages (from jax>=0.3.15->tensorflow-intel==2.12.0->tensorflow) (4.11.3)\n",
      "Requirement already satisfied: markdown>=2.6.8 in c:\\anacondarey\\lib\\site-packages (from tensorboard<2.13,>=2.12->tensorflow-intel==2.12.0->tensorflow) (3.3.4)\n",
      "Requirement already satisfied: requests<3,>=2.21.0 in c:\\anacondarey\\lib\\site-packages (from tensorboard<2.13,>=2.12->tensorflow-intel==2.12.0->tensorflow) (2.28.1)\n",
      "Requirement already satisfied: werkzeug>=1.0.1 in c:\\anacondarey\\lib\\site-packages (from tensorboard<2.13,>=2.12->tensorflow-intel==2.12.0->tensorflow) (2.0.3)\n",
      "Requirement already satisfied: tensorboard-data-server<0.8.0,>=0.7.0 in c:\\anacondarey\\lib\\site-packages (from tensorboard<2.13,>=2.12->tensorflow-intel==2.12.0->tensorflow) (0.7.1)\n",
      "Requirement already satisfied: google-auth-oauthlib<1.1,>=0.5 in c:\\anacondarey\\lib\\site-packages (from tensorboard<2.13,>=2.12->tensorflow-intel==2.12.0->tensorflow) (1.0.0)\n",
      "Requirement already satisfied: google-auth<3,>=1.6.3 in c:\\anacondarey\\lib\\site-packages (from tensorboard<2.13,>=2.12->tensorflow-intel==2.12.0->tensorflow) (2.21.0)\n",
      "Requirement already satisfied: pyparsing!=3.0.5,>=2.0.2 in c:\\anacondarey\\lib\\site-packages (from packaging->tensorflow-intel==2.12.0->tensorflow) (3.0.9)\n",
      "Requirement already satisfied: rsa<5,>=3.1.4 in c:\\anacondarey\\lib\\site-packages (from google-auth<3,>=1.6.3->tensorboard<2.13,>=2.12->tensorflow-intel==2.12.0->tensorflow) (4.9)\n",
      "Requirement already satisfied: cachetools<6.0,>=2.0.0 in c:\\anacondarey\\lib\\site-packages (from google-auth<3,>=1.6.3->tensorboard<2.13,>=2.12->tensorflow-intel==2.12.0->tensorflow) (5.3.1)\n",
      "Requirement already satisfied: urllib3<2.0 in c:\\anacondarey\\lib\\site-packages (from google-auth<3,>=1.6.3->tensorboard<2.13,>=2.12->tensorflow-intel==2.12.0->tensorflow) (1.26.11)\n",
      "Requirement already satisfied: pyasn1-modules>=0.2.1 in c:\\anacondarey\\lib\\site-packages (from google-auth<3,>=1.6.3->tensorboard<2.13,>=2.12->tensorflow-intel==2.12.0->tensorflow) (0.2.8)\n",
      "Requirement already satisfied: requests-oauthlib>=0.7.0 in c:\\anacondarey\\lib\\site-packages (from google-auth-oauthlib<1.1,>=0.5->tensorboard<2.13,>=2.12->tensorflow-intel==2.12.0->tensorflow) (1.3.1)\n",
      "Requirement already satisfied: zipp>=0.5 in c:\\anacondarey\\lib\\site-packages (from importlib-metadata>=4.6->jax>=0.3.15->tensorflow-intel==2.12.0->tensorflow) (3.8.0)\n",
      "Requirement already satisfied: idna<4,>=2.5 in c:\\anacondarey\\lib\\site-packages (from requests<3,>=2.21.0->tensorboard<2.13,>=2.12->tensorflow-intel==2.12.0->tensorflow) (3.3)\n",
      "Requirement already satisfied: charset-normalizer<3,>=2 in c:\\anacondarey\\lib\\site-packages (from requests<3,>=2.21.0->tensorboard<2.13,>=2.12->tensorflow-intel==2.12.0->tensorflow) (2.0.4)\n",
      "Requirement already satisfied: certifi>=2017.4.17 in c:\\anacondarey\\lib\\site-packages (from requests<3,>=2.21.0->tensorboard<2.13,>=2.12->tensorflow-intel==2.12.0->tensorflow) (2022.9.14)\n",
      "Requirement already satisfied: pyasn1<0.5.0,>=0.4.6 in c:\\anacondarey\\lib\\site-packages (from pyasn1-modules>=0.2.1->google-auth<3,>=1.6.3->tensorboard<2.13,>=2.12->tensorflow-intel==2.12.0->tensorflow) (0.4.8)\n",
      "Requirement already satisfied: oauthlib>=3.0.0 in c:\\anacondarey\\lib\\site-packages (from requests-oauthlib>=0.7.0->google-auth-oauthlib<1.1,>=0.5->tensorboard<2.13,>=2.12->tensorflow-intel==2.12.0->tensorflow) (3.2.2)\n"
     ]
    }
   ],
   "source": [
    "!pip install tensorflow"
   ]
  },
  {
   "cell_type": "code",
   "execution_count": 2,
   "id": "6b198e5d",
   "metadata": {},
   "outputs": [],
   "source": [
    "import tensorflow as tf"
   ]
  },
  {
   "cell_type": "code",
   "execution_count": 3,
   "id": "9cfe3a28",
   "metadata": {},
   "outputs": [
    {
     "data": {
      "text/plain": [
       "'2.12.0'"
      ]
     },
     "execution_count": 3,
     "metadata": {},
     "output_type": "execute_result"
    }
   ],
   "source": [
    "tf.__version__"
   ]
  },
  {
   "cell_type": "code",
   "execution_count": 4,
   "id": "cc9b6f78",
   "metadata": {},
   "outputs": [
    {
     "name": "stdout",
     "output_type": "stream",
     "text": [
      "hello\n"
     ]
    }
   ],
   "source": [
    "print(\"hello\")"
   ]
  },
  {
   "cell_type": "code",
   "execution_count": 5,
   "id": "5c361753",
   "metadata": {},
   "outputs": [],
   "source": [
    "import keras "
   ]
  },
  {
   "cell_type": "code",
   "execution_count": 6,
   "id": "0434ab47",
   "metadata": {},
   "outputs": [
    {
     "data": {
      "text/plain": [
       "'2.12.0'"
      ]
     },
     "execution_count": 6,
     "metadata": {},
     "output_type": "execute_result"
    }
   ],
   "source": [
    "keras.__version__"
   ]
  },
  {
   "cell_type": "code",
   "execution_count": 7,
   "id": "a055a19a",
   "metadata": {},
   "outputs": [],
   "source": [
    "import numpy as np"
   ]
  },
  {
   "cell_type": "code",
   "execution_count": 8,
   "id": "31c81185",
   "metadata": {},
   "outputs": [],
   "source": [
    "import pandas as pd"
   ]
  },
  {
   "cell_type": "code",
   "execution_count": 9,
   "id": "65e39440",
   "metadata": {},
   "outputs": [],
   "source": [
    "#importing the dataset"
   ]
  },
  {
   "cell_type": "code",
   "execution_count": 10,
   "id": "6a0a1054",
   "metadata": {},
   "outputs": [],
   "source": [
    "df = pd.read_excel(\"C:\\\\Users\\\\Sricharan Reddy\\\\Downloads\\\\energy.xlsx\")"
   ]
  },
  {
   "cell_type": "code",
   "execution_count": 11,
   "id": "354e7b2c",
   "metadata": {},
   "outputs": [
    {
     "data": {
      "text/html": [
       "<div>\n",
       "<style scoped>\n",
       "    .dataframe tbody tr th:only-of-type {\n",
       "        vertical-align: middle;\n",
       "    }\n",
       "\n",
       "    .dataframe tbody tr th {\n",
       "        vertical-align: top;\n",
       "    }\n",
       "\n",
       "    .dataframe thead th {\n",
       "        text-align: right;\n",
       "    }\n",
       "</style>\n",
       "<table border=\"1\" class=\"dataframe\">\n",
       "  <thead>\n",
       "    <tr style=\"text-align: right;\">\n",
       "      <th></th>\n",
       "      <th>AT</th>\n",
       "      <th>V</th>\n",
       "      <th>AP</th>\n",
       "      <th>RH</th>\n",
       "      <th>PE</th>\n",
       "    </tr>\n",
       "  </thead>\n",
       "  <tbody>\n",
       "    <tr>\n",
       "      <th>0</th>\n",
       "      <td>14.96</td>\n",
       "      <td>41.76</td>\n",
       "      <td>1024.07</td>\n",
       "      <td>73.17</td>\n",
       "      <td>463.26</td>\n",
       "    </tr>\n",
       "    <tr>\n",
       "      <th>1</th>\n",
       "      <td>25.18</td>\n",
       "      <td>62.96</td>\n",
       "      <td>1020.04</td>\n",
       "      <td>59.08</td>\n",
       "      <td>444.37</td>\n",
       "    </tr>\n",
       "    <tr>\n",
       "      <th>2</th>\n",
       "      <td>5.11</td>\n",
       "      <td>39.40</td>\n",
       "      <td>1012.16</td>\n",
       "      <td>92.14</td>\n",
       "      <td>488.56</td>\n",
       "    </tr>\n",
       "    <tr>\n",
       "      <th>3</th>\n",
       "      <td>20.86</td>\n",
       "      <td>57.32</td>\n",
       "      <td>1010.24</td>\n",
       "      <td>76.64</td>\n",
       "      <td>446.48</td>\n",
       "    </tr>\n",
       "    <tr>\n",
       "      <th>4</th>\n",
       "      <td>10.82</td>\n",
       "      <td>37.50</td>\n",
       "      <td>1009.23</td>\n",
       "      <td>96.62</td>\n",
       "      <td>473.90</td>\n",
       "    </tr>\n",
       "  </tbody>\n",
       "</table>\n",
       "</div>"
      ],
      "text/plain": [
       "      AT      V       AP     RH      PE\n",
       "0  14.96  41.76  1024.07  73.17  463.26\n",
       "1  25.18  62.96  1020.04  59.08  444.37\n",
       "2   5.11  39.40  1012.16  92.14  488.56\n",
       "3  20.86  57.32  1010.24  76.64  446.48\n",
       "4  10.82  37.50  1009.23  96.62  473.90"
      ]
     },
     "execution_count": 11,
     "metadata": {},
     "output_type": "execute_result"
    }
   ],
   "source": [
    "df.head()"
   ]
  },
  {
   "cell_type": "code",
   "execution_count": 12,
   "id": "575702af",
   "metadata": {},
   "outputs": [
    {
     "name": "stdout",
     "output_type": "stream",
     "text": [
      "<class 'pandas.core.frame.DataFrame'>\n",
      "RangeIndex: 9568 entries, 0 to 9567\n",
      "Data columns (total 5 columns):\n",
      " #   Column  Non-Null Count  Dtype  \n",
      "---  ------  --------------  -----  \n",
      " 0   AT      9568 non-null   float64\n",
      " 1   V       9568 non-null   float64\n",
      " 2   AP      9568 non-null   float64\n",
      " 3   RH      9568 non-null   float64\n",
      " 4   PE      9568 non-null   float64\n",
      "dtypes: float64(5)\n",
      "memory usage: 373.9 KB\n"
     ]
    }
   ],
   "source": [
    "df.info()"
   ]
  },
  {
   "cell_type": "code",
   "execution_count": 13,
   "id": "4957a872",
   "metadata": {},
   "outputs": [],
   "source": [
    "#here the output variable is pe"
   ]
  },
  {
   "cell_type": "code",
   "execution_count": 14,
   "id": "e1e8acec",
   "metadata": {},
   "outputs": [
    {
     "data": {
      "text/plain": [
       "AT    0\n",
       "V     0\n",
       "AP    0\n",
       "RH    0\n",
       "PE    0\n",
       "dtype: int64"
      ]
     },
     "execution_count": 14,
     "metadata": {},
     "output_type": "execute_result"
    }
   ],
   "source": [
    "df.isnull().sum()"
   ]
  },
  {
   "cell_type": "code",
   "execution_count": 15,
   "id": "c249e44d",
   "metadata": {},
   "outputs": [
    {
     "data": {
      "text/plain": [
       "41"
      ]
     },
     "execution_count": 15,
     "metadata": {},
     "output_type": "execute_result"
    }
   ],
   "source": [
    "df.duplicated().sum()"
   ]
  },
  {
   "cell_type": "code",
   "execution_count": 16,
   "id": "92699418",
   "metadata": {},
   "outputs": [],
   "source": [
    "#df.drop_duplicates(inplace = True)"
   ]
  },
  {
   "cell_type": "code",
   "execution_count": 17,
   "id": "bc8f650d",
   "metadata": {},
   "outputs": [
    {
     "data": {
      "text/plain": [
       "41"
      ]
     },
     "execution_count": 17,
     "metadata": {},
     "output_type": "execute_result"
    }
   ],
   "source": [
    "df.duplicated().sum()"
   ]
  },
  {
   "cell_type": "code",
   "execution_count": 18,
   "id": "3ceba9dc",
   "metadata": {},
   "outputs": [],
   "source": [
    "#no duplicates now "
   ]
  },
  {
   "cell_type": "code",
   "execution_count": 19,
   "id": "6869b335",
   "metadata": {},
   "outputs": [
    {
     "name": "stdout",
     "output_type": "stream",
     "text": [
      "<class 'pandas.core.frame.DataFrame'>\n",
      "RangeIndex: 9568 entries, 0 to 9567\n",
      "Data columns (total 5 columns):\n",
      " #   Column  Non-Null Count  Dtype  \n",
      "---  ------  --------------  -----  \n",
      " 0   AT      9568 non-null   float64\n",
      " 1   V       9568 non-null   float64\n",
      " 2   AP      9568 non-null   float64\n",
      " 3   RH      9568 non-null   float64\n",
      " 4   PE      9568 non-null   float64\n",
      "dtypes: float64(5)\n",
      "memory usage: 373.9 KB\n"
     ]
    }
   ],
   "source": [
    "df.info()"
   ]
  },
  {
   "cell_type": "markdown",
   "id": "c51f8922",
   "metadata": {},
   "source": [
    "# Building multi linear regression model "
   ]
  },
  {
   "cell_type": "code",
   "execution_count": 20,
   "id": "db6c1795",
   "metadata": {},
   "outputs": [],
   "source": [
    "#now lets build a linear regression model and check "
   ]
  },
  {
   "cell_type": "code",
   "execution_count": 21,
   "id": "8e52a60a",
   "metadata": {},
   "outputs": [],
   "source": [
    "from sklearn.model_selection import train_test_split"
   ]
  },
  {
   "cell_type": "code",
   "execution_count": 22,
   "id": "07a4ffe5",
   "metadata": {},
   "outputs": [],
   "source": [
    "x = df.drop(columns = ['PE'])"
   ]
  },
  {
   "cell_type": "code",
   "execution_count": 23,
   "id": "3e5bf5cf",
   "metadata": {},
   "outputs": [],
   "source": [
    "y = df['PE']"
   ]
  },
  {
   "cell_type": "code",
   "execution_count": 24,
   "id": "7c68ecb0",
   "metadata": {},
   "outputs": [],
   "source": [
    "x_train , x_test , y_train , y_test = train_test_split(x,y,test_size=0.2,random_state = 9)"
   ]
  },
  {
   "cell_type": "code",
   "execution_count": 25,
   "id": "d2781e6f",
   "metadata": {},
   "outputs": [],
   "source": [
    "from sklearn.linear_model import LinearRegression"
   ]
  },
  {
   "cell_type": "code",
   "execution_count": 26,
   "id": "d83b2bde",
   "metadata": {},
   "outputs": [],
   "source": [
    "model = LinearRegression()"
   ]
  },
  {
   "cell_type": "code",
   "execution_count": 27,
   "id": "ce9c8d9c",
   "metadata": {},
   "outputs": [
    {
     "data": {
      "text/plain": [
       "LinearRegression()"
      ]
     },
     "execution_count": 27,
     "metadata": {},
     "output_type": "execute_result"
    }
   ],
   "source": [
    "model.fit(x_train,y_train)"
   ]
  },
  {
   "cell_type": "code",
   "execution_count": 28,
   "id": "7922ed91",
   "metadata": {},
   "outputs": [
    {
     "data": {
      "text/plain": [
       "array([-1.97253609, -0.23689539,  0.05852478, -0.15902722])"
      ]
     },
     "execution_count": 28,
     "metadata": {},
     "output_type": "execute_result"
    }
   ],
   "source": [
    "model.coef_"
   ]
  },
  {
   "cell_type": "code",
   "execution_count": 29,
   "id": "3fb8f704",
   "metadata": {},
   "outputs": [
    {
     "data": {
      "text/plain": [
       "458.35587979666855"
      ]
     },
     "execution_count": 29,
     "metadata": {},
     "output_type": "execute_result"
    }
   ],
   "source": [
    "model.intercept_"
   ]
  },
  {
   "cell_type": "code",
   "execution_count": 30,
   "id": "5fb4a11c",
   "metadata": {},
   "outputs": [],
   "source": [
    "y_train_pred = model.predict(x_train)"
   ]
  },
  {
   "cell_type": "code",
   "execution_count": 31,
   "id": "051349a0",
   "metadata": {},
   "outputs": [],
   "source": [
    "y_test_pred = model.predict(x_test)"
   ]
  },
  {
   "cell_type": "code",
   "execution_count": 32,
   "id": "0d7e97f7",
   "metadata": {},
   "outputs": [],
   "source": [
    "from sklearn.metrics import mean_squared_error"
   ]
  },
  {
   "cell_type": "code",
   "execution_count": 33,
   "id": "f3565b58",
   "metadata": {},
   "outputs": [],
   "source": [
    "train_rmse = np.sqrt(mean_squared_error(y_train,y_train_pred))"
   ]
  },
  {
   "cell_type": "code",
   "execution_count": 34,
   "id": "90b96f8c",
   "metadata": {},
   "outputs": [],
   "source": [
    "test_rmse = np.sqrt(mean_squared_error(y_test,y_test_pred))"
   ]
  },
  {
   "cell_type": "code",
   "execution_count": 35,
   "id": "c5c1bd71",
   "metadata": {},
   "outputs": [
    {
     "name": "stdout",
     "output_type": "stream",
     "text": [
      "4.566105555208942 4.521896846257061\n"
     ]
    }
   ],
   "source": [
    "print(train_rmse,test_rmse)"
   ]
  },
  {
   "cell_type": "code",
   "execution_count": 36,
   "id": "d15fbb69",
   "metadata": {},
   "outputs": [
    {
     "name": "stdout",
     "output_type": "stream",
     "text": [
      "0.9281184327195898\n",
      "0.9309231890731563\n"
     ]
    }
   ],
   "source": [
    "from sklearn.metrics import r2_score\n",
    "print(r2_score(y_train,y_train_pred))\n",
    "print(r2_score(y_test,y_test_pred))"
   ]
  },
  {
   "cell_type": "markdown",
   "id": "52c6b843",
   "metadata": {},
   "source": [
    "# Building artificial neural network model"
   ]
  },
  {
   "cell_type": "code",
   "execution_count": 37,
   "id": "59678a52",
   "metadata": {},
   "outputs": [],
   "source": [
    "from keras.models import Sequential"
   ]
  },
  {
   "cell_type": "code",
   "execution_count": 38,
   "id": "68b159f3",
   "metadata": {},
   "outputs": [],
   "source": [
    "from keras.layers import Dense"
   ]
  },
  {
   "cell_type": "code",
   "execution_count": 39,
   "id": "c1af8362",
   "metadata": {},
   "outputs": [],
   "source": [
    "model = Sequential()"
   ]
  },
  {
   "cell_type": "code",
   "execution_count": 40,
   "id": "2345ecaf",
   "metadata": {},
   "outputs": [],
   "source": [
    "model.add(Dense(input_dim=4,units = 6,activation= 'relu',kernel_initializer='uniform'))"
   ]
  },
  {
   "cell_type": "code",
   "execution_count": 41,
   "id": "97a84089",
   "metadata": {},
   "outputs": [],
   "source": [
    "model.add(Dense(units = 6,activation= 'relu',kernel_initializer='uniform'))"
   ]
  },
  {
   "cell_type": "code",
   "execution_count": 42,
   "id": "6bf7bae1",
   "metadata": {},
   "outputs": [],
   "source": [
    "#model.add(Dense(units = 6,activation= 'relu',kernel_initializer='uniform'))"
   ]
  },
  {
   "cell_type": "code",
   "execution_count": 43,
   "id": "4375c457",
   "metadata": {},
   "outputs": [],
   "source": [
    "model.add(Dense(units = 1,activation= 'relu',kernel_initializer='uniform'))"
   ]
  },
  {
   "cell_type": "code",
   "execution_count": 44,
   "id": "e73346d9",
   "metadata": {},
   "outputs": [],
   "source": [
    "model.compile(optimizer='adam',loss ='mean_squared_error')"
   ]
  },
  {
   "cell_type": "code",
   "execution_count": 45,
   "id": "5debe121",
   "metadata": {},
   "outputs": [
    {
     "name": "stdout",
     "output_type": "stream",
     "text": [
      "Epoch 1/100\n",
      "1276/1276 [==============================] - 2s 1ms/step - loss: 57806.2539\n",
      "Epoch 2/100\n",
      "1276/1276 [==============================] - 1s 1ms/step - loss: 335.9351\n",
      "Epoch 3/100\n",
      "1276/1276 [==============================] - 1s 961us/step - loss: 228.1620\n",
      "Epoch 4/100\n",
      "1276/1276 [==============================] - 1s 954us/step - loss: 132.9476\n",
      "Epoch 5/100\n",
      "1276/1276 [==============================] - 1s 941us/step - loss: 76.8078\n",
      "Epoch 6/100\n",
      "1276/1276 [==============================] - 1s 947us/step - loss: 49.6921\n",
      "Epoch 7/100\n",
      "1276/1276 [==============================] - 1s 963us/step - loss: 37.6339\n",
      "Epoch 8/100\n",
      "1276/1276 [==============================] - 1s 964us/step - loss: 32.9930\n",
      "Epoch 9/100\n",
      "1276/1276 [==============================] - 1s 946us/step - loss: 30.7254\n",
      "Epoch 10/100\n",
      "1276/1276 [==============================] - 1s 940us/step - loss: 30.3429\n",
      "Epoch 11/100\n",
      "1276/1276 [==============================] - 1s 950us/step - loss: 29.1923\n",
      "Epoch 12/100\n",
      "1276/1276 [==============================] - 1s 988us/step - loss: 28.9821\n",
      "Epoch 13/100\n",
      "1276/1276 [==============================] - 2s 1ms/step - loss: 28.4899\n",
      "Epoch 14/100\n",
      "1276/1276 [==============================] - 1s 1ms/step - loss: 28.1644\n",
      "Epoch 15/100\n",
      "1276/1276 [==============================] - 1s 967us/step - loss: 28.0913\n",
      "Epoch 16/100\n",
      "1276/1276 [==============================] - 1s 971us/step - loss: 27.9800\n",
      "Epoch 17/100\n",
      "1276/1276 [==============================] - 1s 948us/step - loss: 27.9929\n",
      "Epoch 18/100\n",
      "1276/1276 [==============================] - 1s 956us/step - loss: 28.1330\n",
      "Epoch 19/100\n",
      "1276/1276 [==============================] - 1s 963us/step - loss: 27.9751\n",
      "Epoch 20/100\n",
      "1276/1276 [==============================] - 1s 964us/step - loss: 27.9333\n",
      "Epoch 21/100\n",
      "1276/1276 [==============================] - 1s 970us/step - loss: 27.7763\n",
      "Epoch 22/100\n",
      "1276/1276 [==============================] - 1s 1ms/step - loss: 27.8855\n",
      "Epoch 23/100\n",
      "1276/1276 [==============================] - 1s 1ms/step - loss: 27.5984\n",
      "Epoch 24/100\n",
      "1276/1276 [==============================] - 1s 1ms/step - loss: 27.6106\n",
      "Epoch 25/100\n",
      "1276/1276 [==============================] - 1s 1ms/step - loss: 27.9873\n",
      "Epoch 26/100\n",
      "1276/1276 [==============================] - 1s 1ms/step - loss: 27.7006\n",
      "Epoch 27/100\n",
      "1276/1276 [==============================] - 1s 964us/step - loss: 27.6436\n",
      "Epoch 28/100\n",
      "1276/1276 [==============================] - 1s 1ms/step - loss: 27.7777\n",
      "Epoch 29/100\n",
      "1276/1276 [==============================] - 1s 967us/step - loss: 27.8305\n",
      "Epoch 30/100\n",
      "1276/1276 [==============================] - 1s 958us/step - loss: 27.6679\n",
      "Epoch 31/100\n",
      "1276/1276 [==============================] - 1s 1ms/step - loss: 28.6834\n",
      "Epoch 32/100\n",
      "1276/1276 [==============================] - 1s 987us/step - loss: 27.6353\n",
      "Epoch 33/100\n",
      "1276/1276 [==============================] - 1s 1ms/step - loss: 28.0604\n",
      "Epoch 34/100\n",
      "1276/1276 [==============================] - 1s 960us/step - loss: 27.7673\n",
      "Epoch 35/100\n",
      "1276/1276 [==============================] - 1s 960us/step - loss: 27.3580\n",
      "Epoch 36/100\n",
      "1276/1276 [==============================] - 1s 960us/step - loss: 27.8983\n",
      "Epoch 37/100\n",
      "1276/1276 [==============================] - 1s 1ms/step - loss: 27.8122\n",
      "Epoch 38/100\n",
      "1276/1276 [==============================] - 2s 1ms/step - loss: 27.5609\n",
      "Epoch 39/100\n",
      "1276/1276 [==============================] - 1s 1ms/step - loss: 27.3448\n",
      "Epoch 40/100\n",
      "1276/1276 [==============================] - 1s 958us/step - loss: 27.9914\n",
      "Epoch 41/100\n",
      "1276/1276 [==============================] - 1s 954us/step - loss: 28.2614\n",
      "Epoch 42/100\n",
      "1276/1276 [==============================] - 1s 967us/step - loss: 27.4238\n",
      "Epoch 43/100\n",
      "1276/1276 [==============================] - 1s 973us/step - loss: 27.3574\n",
      "Epoch 44/100\n",
      "1276/1276 [==============================] - 1s 965us/step - loss: 27.5782\n",
      "Epoch 45/100\n",
      "1276/1276 [==============================] - 1s 967us/step - loss: 28.0695\n",
      "Epoch 46/100\n",
      "1276/1276 [==============================] - 1s 992us/step - loss: 27.4619\n",
      "Epoch 47/100\n",
      "1276/1276 [==============================] - 1s 966us/step - loss: 27.9863\n",
      "Epoch 48/100\n",
      "1276/1276 [==============================] - 1s 960us/step - loss: 27.5819\n",
      "Epoch 49/100\n",
      "1276/1276 [==============================] - 1s 1ms/step - loss: 27.8587\n",
      "Epoch 50/100\n",
      "1276/1276 [==============================] - 1s 1ms/step - loss: 27.2875\n",
      "Epoch 51/100\n",
      "1276/1276 [==============================] - 1s 1ms/step - loss: 27.6665\n",
      "Epoch 52/100\n",
      "1276/1276 [==============================] - 1s 1ms/step - loss: 27.9550\n",
      "Epoch 53/100\n",
      "1276/1276 [==============================] - 1s 951us/step - loss: 27.7991\n",
      "Epoch 54/100\n",
      "1276/1276 [==============================] - 1s 950us/step - loss: 27.2980\n",
      "Epoch 55/100\n",
      "1276/1276 [==============================] - 1s 949us/step - loss: 27.6746\n",
      "Epoch 56/100\n",
      "1276/1276 [==============================] - 1s 948us/step - loss: 27.4498\n",
      "Epoch 57/100\n",
      "1276/1276 [==============================] - 1s 942us/step - loss: 27.4049\n",
      "Epoch 58/100\n",
      "1276/1276 [==============================] - 1s 974us/step - loss: 27.8520\n",
      "Epoch 59/100\n",
      "1276/1276 [==============================] - 1s 969us/step - loss: 27.6863\n",
      "Epoch 60/100\n",
      "1276/1276 [==============================] - 1s 953us/step - loss: 27.8883\n",
      "Epoch 61/100\n",
      "1276/1276 [==============================] - 1s 961us/step - loss: 27.5513\n",
      "Epoch 62/100\n",
      "1276/1276 [==============================] - 1s 965us/step - loss: 27.5074\n",
      "Epoch 63/100\n",
      "1276/1276 [==============================] - 1s 1ms/step - loss: 27.2402\n",
      "Epoch 64/100\n",
      "1276/1276 [==============================] - 1s 1ms/step - loss: 28.0145\n",
      "Epoch 65/100\n",
      "1276/1276 [==============================] - 1s 1000us/step - loss: 28.0205\n",
      "Epoch 66/100\n",
      "1276/1276 [==============================] - 1s 960us/step - loss: 27.4601\n",
      "Epoch 67/100\n",
      "1276/1276 [==============================] - 1s 964us/step - loss: 27.6870\n",
      "Epoch 68/100\n",
      "1276/1276 [==============================] - 1s 956us/step - loss: 28.0654\n",
      "Epoch 69/100\n",
      "1276/1276 [==============================] - 1s 969us/step - loss: 27.3284\n",
      "Epoch 70/100\n",
      "1276/1276 [==============================] - 1s 958us/step - loss: 27.6278\n",
      "Epoch 71/100\n",
      "1276/1276 [==============================] - 1s 984us/step - loss: 27.6053\n",
      "Epoch 72/100\n",
      "1276/1276 [==============================] - 1s 976us/step - loss: 27.5922\n",
      "Epoch 73/100\n",
      "1276/1276 [==============================] - 1s 952us/step - loss: 28.2850\n",
      "Epoch 74/100\n",
      "1276/1276 [==============================] - 1s 985us/step - loss: 27.8309\n",
      "Epoch 75/100\n",
      "1276/1276 [==============================] - 1s 981us/step - loss: 27.7152\n",
      "Epoch 76/100\n",
      "1276/1276 [==============================] - 1s 1ms/step - loss: 27.8619\n",
      "Epoch 77/100\n",
      "1276/1276 [==============================] - 1s 998us/step - loss: 27.5336\n",
      "Epoch 78/100\n",
      "1276/1276 [==============================] - 1s 955us/step - loss: 27.6890\n",
      "Epoch 79/100\n",
      "1276/1276 [==============================] - 1s 959us/step - loss: 27.5450\n",
      "Epoch 80/100\n",
      "1276/1276 [==============================] - 1s 956us/step - loss: 27.7808\n",
      "Epoch 81/100\n",
      "1276/1276 [==============================] - 1s 983us/step - loss: 27.6845\n",
      "Epoch 82/100\n",
      "1276/1276 [==============================] - 1s 1ms/step - loss: 27.7606\n",
      "Epoch 83/100\n",
      "1276/1276 [==============================] - 1s 954us/step - loss: 27.9802\n",
      "Epoch 84/100\n",
      "1276/1276 [==============================] - 1s 1ms/step - loss: 27.7502\n",
      "Epoch 85/100\n",
      "1276/1276 [==============================] - 1s 976us/step - loss: 27.7193\n",
      "Epoch 86/100\n",
      "1276/1276 [==============================] - 1s 982us/step - loss: 28.1256\n",
      "Epoch 87/100\n",
      "1276/1276 [==============================] - 1s 964us/step - loss: 28.3102\n",
      "Epoch 88/100\n",
      "1276/1276 [==============================] - 1s 1ms/step - loss: 27.3694\n",
      "Epoch 89/100\n",
      "1276/1276 [==============================] - 1s 1ms/step - loss: 27.6225\n",
      "Epoch 90/100\n",
      "1276/1276 [==============================] - 1s 999us/step - loss: 28.6642\n",
      "Epoch 91/100\n",
      "1276/1276 [==============================] - 1s 976us/step - loss: 27.8579\n",
      "Epoch 92/100\n",
      "1276/1276 [==============================] - 1s 949us/step - loss: 27.1916\n",
      "Epoch 93/100\n",
      "1276/1276 [==============================] - 1s 987us/step - loss: 27.1859\n",
      "Epoch 94/100\n",
      "1276/1276 [==============================] - 1s 963us/step - loss: 27.8949\n",
      "Epoch 95/100\n",
      "1276/1276 [==============================] - 1s 966us/step - loss: 27.4625\n",
      "Epoch 96/100\n",
      "1276/1276 [==============================] - 1s 941us/step - loss: 27.9068\n",
      "Epoch 97/100\n",
      "1276/1276 [==============================] - 1s 980us/step - loss: 27.0168\n",
      "Epoch 98/100\n",
      "1276/1276 [==============================] - 1s 997us/step - loss: 27.4121\n",
      "Epoch 99/100\n",
      "1276/1276 [==============================] - 1s 958us/step - loss: 27.7539\n",
      "Epoch 100/100\n",
      "1276/1276 [==============================] - 1s 960us/step - loss: 27.5900\n"
     ]
    },
    {
     "data": {
      "text/plain": [
       "<keras.callbacks.History at 0x1fab0793e80>"
      ]
     },
     "execution_count": 45,
     "metadata": {},
     "output_type": "execute_result"
    }
   ],
   "source": [
    "model.fit(x_train,y_train,batch_size=6,epochs=100)"
   ]
  },
  {
   "cell_type": "code",
   "execution_count": 46,
   "id": "abe70797",
   "metadata": {},
   "outputs": [
    {
     "name": "stdout",
     "output_type": "stream",
     "text": [
      "240/240 [==============================] - 0s 782us/step\n",
      "60/60 [==============================] - 0s 938us/step\n"
     ]
    }
   ],
   "source": [
    "y_train_pred = model.predict(x_train)\n",
    "y_test_pred = model.predict(x_test)"
   ]
  },
  {
   "cell_type": "code",
   "execution_count": 47,
   "id": "9231eeec",
   "metadata": {},
   "outputs": [],
   "source": [
    "train_rmse = np.sqrt(mean_squared_error(y_train,y_train_pred))\n",
    "test_rmse = np.sqrt(mean_squared_error(y_test,y_test_pred))"
   ]
  },
  {
   "cell_type": "code",
   "execution_count": 48,
   "id": "0a31c17a",
   "metadata": {},
   "outputs": [
    {
     "name": "stdout",
     "output_type": "stream",
     "text": [
      "5.074096966815189 4.996065339200128\n"
     ]
    }
   ],
   "source": [
    "print(train_rmse,test_rmse)"
   ]
  },
  {
   "cell_type": "code",
   "execution_count": null,
   "id": "5f30f674",
   "metadata": {},
   "outputs": [],
   "source": []
  },
  {
   "cell_type": "code",
   "execution_count": 49,
   "id": "a49ebac8",
   "metadata": {},
   "outputs": [
    {
     "name": "stdout",
     "output_type": "stream",
     "text": [
      "0.9112347115401874\n",
      "0.9156767772849758\n"
     ]
    }
   ],
   "source": [
    "print(r2_score(y_train,y_train_pred))\n",
    "print(r2_score(y_test,y_test_pred))"
   ]
  },
  {
   "cell_type": "code",
   "execution_count": null,
   "id": "825049c7",
   "metadata": {},
   "outputs": [],
   "source": []
  }
 ],
 "metadata": {
  "kernelspec": {
   "display_name": "Python 3 (ipykernel)",
   "language": "python",
   "name": "python3"
  },
  "language_info": {
   "codemirror_mode": {
    "name": "ipython",
    "version": 3
   },
   "file_extension": ".py",
   "mimetype": "text/x-python",
   "name": "python",
   "nbconvert_exporter": "python",
   "pygments_lexer": "ipython3",
   "version": "3.9.13"
  }
 },
 "nbformat": 4,
 "nbformat_minor": 5
}
